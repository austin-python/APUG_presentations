{
 "cells": [
  {
   "cell_type": "markdown",
   "metadata": {},
   "source": [
    "# Best Books\n",
    "\n",
    "## Austin Python User Group meeting 2019-06-12\n",
    "\n",
    "#### A list of the best programming books for someone on the journey from beginner to master programmer, from a group discussion\n",
    "\n",
    "____\n",
    "____"
   ]
  },
  {
   "cell_type": "markdown",
   "metadata": {},
   "source": [
    "### The Mythical Man Month\n",
    "#### Frederick Brooks\n",
    "https://amzn.to/2KeTxAQ\n",
    "\n",
    "Talks about the non-programming parts of programming as a profession. Source of non-intuitive wisdom like \"adding programmers to a late project makes it later\". Just as relevant today as when it was originally published in 1975 at the dawn of our industry.\n",
    "____"
   ]
  },
  {
   "cell_type": "markdown",
   "metadata": {},
   "source": [
    "### The Pragmatic Programmer\n",
    "#### Andrew Hunt & David Thomas\n",
    "https://amzn.to/2ZiHjKY\n",
    "\n",
    "### The Clean Coder\n",
    "#### Robin Martin\n",
    "https://amzn.to/2ZmXEy6\n",
    "\n",
    "Both of these come from a place that treats software development as a craft, and they talk about various aspects of how to improve as a developer. The Pragmatic Programmer wonderfully captures some of the core principles that have remained relatively constant despite decades of tech change and new languages. Timeless classic.\n",
    "\n",
    "The Clean Coder talks more about the personal side of what one's mindset should be when working on a team of devs.\n",
    "____"
   ]
  },
  {
   "cell_type": "markdown",
   "metadata": {},
   "source": [
    "### Peopleware: Productive Projects and Teams\n",
    "#### Tom DeMarco & Tim Lister\n",
    "https://amzn.to/2ZlMn16\n",
    "\n",
    "An eye-opening book about programming as a human activity, rather than a technical one.  This book is basically the 1980's version of The Mythical Man Month.\n",
    "\n",
    "____"
   ]
  },
  {
   "cell_type": "markdown",
   "metadata": {},
   "source": [
    "### Code Complete\n",
    "#### Steve McConnell\n",
    "\n",
    "https://amzn.to/2Kg8B1a\n",
    "\n",
    "A great practical guide to programming.  Originally published in the mid-90s, but revised and updated since then.  Any book that survives and thrives for >25 years like this one has got to be good."
   ]
  },
  {
   "cell_type": "markdown",
   "metadata": {},
   "source": [
    "### The Art of Unix Programming\n",
    "#### Eric S Raymond\n",
    "\n",
    "https://amzn.to/2Kj42mC\n",
    "\n",
    "\n",
    "Eric is known as ESR on the Internet.  He is also the author of the Jargon File http://www.catb.org/jargon/html/ which is essential reading for those interested in the hacker community going back to before the Internet.\n",
    "\n",
    "ESR has a blog at http://esr.ibiblio.org/ which is a mix of software & politics.\n",
    "\n",
    "____"
   ]
  },
  {
   "cell_type": "markdown",
   "metadata": {},
   "source": [
    "### The Art of Computer Programming\n",
    "#### Donald E. Knuth\n",
    "\n",
    "https://amzn.to/2KfeuM1\n",
    "\n",
    "https://www-cs-faculty.stanford.edu/~knuth/taocp.html\n",
    "\n",
    "A classic reference / textbook on algorithms.  This is a masterwork, that is still a work in progress.  Volume 1 through 3 are finished, volume 4A was published in 2011, drafts of volumes 4B, 4C, 4D are available.  Volume 5 is estimated for approximately 2025.  We don't have estimates for volumes 6, 7.  This is an enormous undertaking, and we all do hope that Kunth lives long enough to finish it. \n",
    "\n",
    "____"
   ]
  },
  {
   "cell_type": "markdown",
   "metadata": {},
   "source": [
    "### Extending SaltStack\n",
    "#### Joseph Hall\n",
    "\n",
    "https://amzn.to/2KhVnB7\n",
    "\n",
    "About DevOps.\n",
    "\n",
    "____"
   ]
  },
  {
   "cell_type": "markdown",
   "metadata": {},
   "source": [
    "### A Whirlwind Tour of Python\n",
    "#### Jake VanderPlas\n",
    "\n",
    "https://jakevdp.github.io/WhirlwindTourOfPython/\n",
    "\n",
    "Someone recommended this as the best book to give to someone new to Python.\n",
    "\n",
    "____"
   ]
  },
  {
   "cell_type": "markdown",
   "metadata": {},
   "source": [
    "### Effective C++\n",
    "### More Effective C++ ...\n",
    "#### Scott Meyers\n",
    "\n",
    "https://amzn.to/2KjSQ9h\n",
    "https://amzn.to/2KgPunK\n",
    "\n",
    "____"
   ]
  },
  {
   "cell_type": "markdown",
   "metadata": {},
   "source": [
    "### Design Patterns\n",
    "#### The authors are often referred to as the \"Gang of 4\"\n",
    "\n",
    "https://amzn.to/2KhVU65\n",
    "\n",
    "https://en.wikipedia.org/wiki/Design_Patterns\n",
    "\n",
    "____"
   ]
  },
  {
   "cell_type": "markdown",
   "metadata": {},
   "source": [
    "### Becoming a Technical Leader\n",
    "#### Gerald Weinberg\n",
    "\n",
    "https://amzn.to/2KiFrP8\n",
    "\n",
    "A book about making the transition from being an individual technical contributor to being a manager / leader.\n",
    "\n",
    "____"
   ]
  },
  {
   "cell_type": "markdown",
   "metadata": {},
   "source": [
    "### Power Python\n",
    "#### Aaron Maxwell\n",
    "\n",
    "https://amzn.to/2Kj86mS\n",
    "\n",
    "____"
   ]
  },
  {
   "cell_type": "markdown",
   "metadata": {},
   "source": [
    "### Practical Object-Oriented Design\n",
    "#### Sandi Metz\n",
    "\n",
    "https://www.poodr.com/\n",
    "\n",
    "https://amzn.to/2KjTTGf\n",
    "\n",
    "____"
   ]
  },
  {
   "cell_type": "markdown",
   "metadata": {},
   "source": [
    "### Compilers: Principles, Techniques, and Tools\n",
    "### (AKA \"the Dragon book\")\n",
    "#### Aho, Lam, Sethi & Ullman\n",
    "\n",
    "https://en.wikipedia.org/wiki/Compilers:_Principles,_Techniques,_and_Tools\n",
    "\n",
    "https://amzn.to/2KiQRC8\n",
    "\n",
    "Classic textbook about compilers.\n",
    "\n",
    "____"
   ]
  },
  {
   "cell_type": "markdown",
   "metadata": {},
   "source": [
    "### Structure and Interpretation of Computer Programs\n",
    "### (AKA \"SICP\")\n",
    "#### Jay Sussman, + others\n",
    "\n",
    "https://en.wikipedia.org/wiki/Structure_and_Interpretation_of_Computer_Programs\n",
    "\n",
    "https://amzn.to/2KiQV4Q\n",
    "\n",
    "Classic text book.  Used as the basis for a famous class taught at MIT by Sussman.  Heavy reading, but worth it.\n",
    "\n",
    "If you like this one, Sussman later wrote a very similar book about mechanics called Structure and Interpretation of Mechanics.\n",
    "\n",
    "https://en.wikipedia.org/wiki/Structure_and_Interpretation_of_Classical_Mechanics\n",
    "\n",
    "____"
   ]
  },
  {
   "cell_type": "markdown",
   "metadata": {},
   "source": [
    "### Any book by Dennis Ritchie\n",
    "#### Dennis Ritchie\n",
    "\n",
    "https://en.wikipedia.org/wiki/Dennis_Ritchie\n",
    "\n",
    "One of the creaters of the C programming language, Unix.\n",
    "\n",
    "____"
   ]
  },
  {
   "cell_type": "markdown",
   "metadata": {},
   "source": [
    "### The Manager's Path\n",
    "#### Camille Fournier\n",
    "\n",
    "https://amzn.to/2Kgd0kD\n",
    "\n",
    "To help you understand how business managers in your company make decisions, what drives them, etc.\n",
    "\n",
    "____"
   ]
  },
  {
   "cell_type": "markdown",
   "metadata": {},
   "source": [
    "### Refactoring\n",
    "#### Martin Fowler\n",
    "\n",
    "https://martinfowler.com/books/refactoring.html\n",
    "\n",
    "https://amzn.to/2KgaYRC\n",
    "\n",
    "Classic book on refactoring.\n",
    "____"
   ]
  },
  {
   "cell_type": "markdown",
   "metadata": {},
   "source": [
    "### The Go Programming Language\n",
    "#### Donovan & Kernigan\n",
    "\n",
    "https://amzn.to/2KjSnUP\n",
    "\n",
    "Kernigan was one of Ritchie's co-authors, and co-creater of C & Unix.  Here he is at Google decades later still advancing the state of the art.\n",
    "\n",
    "____"
   ]
  },
  {
   "cell_type": "markdown",
   "metadata": {},
   "source": [
    "### The Elements of Programming Style\n",
    "#### Kernigan & Plauger\n",
    "\n",
    "https://amzn.to/2KjVnQP\n",
    "\n",
    "Kernigan again, wow.\n",
    "\n",
    "____"
   ]
  },
  {
   "cell_type": "markdown",
   "metadata": {},
   "source": [
    "# At this stage in the conversation we switched our focus from books to blogs + websites\n",
    "\n",
    "____\n",
    "___"
   ]
  },
  {
   "cell_type": "markdown",
   "metadata": {},
   "source": [
    "### Full Stack Python\n",
    "\n",
    "https://www.fullstackpython.com/blog.html\n",
    "\n",
    "Very useful\n",
    "____"
   ]
  },
  {
   "cell_type": "markdown",
   "metadata": {},
   "source": [
    "### Yegor256\n",
    "\n",
    "https://www.yegor256.com/\n",
    "\n",
    "Programmer advice blog\n",
    "____"
   ]
  },
  {
   "cell_type": "markdown",
   "metadata": {},
   "source": [
    "### Real Python\n",
    "\n",
    "https://realpython.com/\n",
    "\n",
    "Tutorials on lots of stuff\n",
    "____"
   ]
  },
  {
   "cell_type": "markdown",
   "metadata": {},
   "source": [
    "### David Beazley\n",
    "\n",
    "Someone suggested his Twitter feed was worth following...\n",
    "\n",
    "https://twitter.com/dabeaz\n",
    "\n",
    "But he's written several great Python books, and teaches Python classes too."
   ]
  },
  {
   "cell_type": "markdown",
   "metadata": {},
   "source": [
    "### Machine Learning Mastery\n",
    "#### Jason Brownlee\n",
    "\n",
    "https://machinelearningmastery.com/\n",
    "____"
   ]
  },
  {
   "cell_type": "markdown",
   "metadata": {},
   "source": [
    "### Flask Tutorial\n",
    "#### Miguel Grinberg\n",
    "\n",
    "https://blog.miguelgrinberg.com/post/the-flask-mega-tutorial-part-i-hello-world\n",
    "\n",
    "The title says its about Flask, but there are lots of other technologies covered.\n",
    "\n",
    "____"
   ]
  },
  {
   "cell_type": "markdown",
   "metadata": {},
   "source": [
    "### Kite\n",
    "#### Kite is an IDE plug-in for Python, their blog has lots of useful tutorials\n",
    "\n",
    "https://kite.com/blog/\n",
    "\n",
    "____"
   ]
  },
  {
   "cell_type": "markdown",
   "metadata": {},
   "source": [
    "### Paul Graham blog\n",
    "#### Paul Graham is the driving force behind Y Combinator, the premier startup accelerator in the world\n",
    "\n",
    "http://paulgraham.com/articles.html\n",
    "\n",
    "Lots of useful articles about startups."
   ]
  },
  {
   "cell_type": "markdown",
   "metadata": {},
   "source": [
    "### Joel on Software\n",
    "#### Joel Spolsky\n",
    "\n",
    "https://www.joelonsoftware.com/\n",
    "\n",
    "Years worth of awesome articles.  Don't be shy about going back and reading stuff from the 1990's, thats where some of the best stuff is.\n",
    "\n",
    "____"
   ]
  },
  {
   "cell_type": "markdown",
   "metadata": {},
   "source": [
    "### Udemy: Complete Python Bootcamp\n",
    "#### Online course on Python\n",
    "\n",
    "https://www.udemy.com/complete-python-bootcamp/\n",
    "\n",
    "Someone recommended this as being really good.\n",
    "\n",
    "____"
   ]
  },
  {
   "cell_type": "markdown",
   "metadata": {},
   "source": [
    "### XKCD\n",
    "#### Randall Munroe\n",
    "\n",
    "https://xkcd.com/\n",
    "\n",
    "Stand back!  I'm going to try science.\n",
    "\n",
    "Geek humor\n",
    "\n",
    "____"
   ]
  },
  {
   "cell_type": "markdown",
   "metadata": {},
   "source": [
    "### Code Bullet YouTube Channel\n",
    "\n",
    "https://www.youtube.com/channel/UC0e3QhIYukixgh5VVpKHH9Q\n",
    "\n",
    "____"
   ]
  },
  {
   "cell_type": "markdown",
   "metadata": {},
   "source": [
    "### Command Line humor\n",
    "\n",
    "https://duckduckgo.com/?q=commandline+humor&ia=web\n",
    "\n",
    "____"
   ]
  },
  {
   "cell_type": "markdown",
   "metadata": {},
   "source": [
    "### Bastard Operator from Hell\n",
    "\n",
    "http://bofh.bjash.com/\n",
    "\n",
    "____"
   ]
  },
  {
   "cell_type": "markdown",
   "metadata": {},
   "source": [
    "### Oh shit, git!\n",
    "\n",
    "https://ohshitgit.com/\n",
    "\n",
    "____"
   ]
  },
  {
   "cell_type": "markdown",
   "metadata": {},
   "source": [
    "### Reddit Programmer Humor\n",
    "\n",
    "https://www.reddit.com/r/programmerhumor\n",
    "\n",
    "____"
   ]
  },
  {
   "cell_type": "markdown",
   "metadata": {},
   "source": [
    "### Huh, not sure how to describe this one\n",
    "\n",
    "http://www.catb.org/~esr/writings/unix-koans/script-kiddie.html\n",
    "    \n",
    "____"
   ]
  },
  {
   "cell_type": "markdown",
   "metadata": {},
   "source": [
    "### Cracking the Coding Interview\n",
    "#### Gayle Laakmann McDowell\n",
    "\n",
    "http://www.crackingthecodinginterview.com/\n",
    "\n",
    "https://amzn.to/2KiJefk\n",
    "\n",
    "Can we all please stop it with \"gotcha!\" type programmers interviews?  Thank you."
   ]
  },
  {
   "cell_type": "markdown",
   "metadata": {},
   "source": [
    "# That's it, thanks for playing"
   ]
  }
 ],
 "metadata": {
  "kernelspec": {
   "display_name": "Python [default]",
   "language": "python",
   "name": "python3"
  },
  "language_info": {
   "codemirror_mode": {
    "name": "ipython",
    "version": 3
   },
   "file_extension": ".py",
   "mimetype": "text/x-python",
   "name": "python",
   "nbconvert_exporter": "python",
   "pygments_lexer": "ipython3",
   "version": "3.5.3"
  }
 },
 "nbformat": 4,
 "nbformat_minor": 2
}
